{
 "cells": [
  {
   "cell_type": "code",
   "execution_count": 1,
   "metadata": {},
   "outputs": [],
   "source": [
    "import pandas as pd\n",
    "import numpy as np\n",
    "import matplotlib.pyplot as plt\n",
    "import seaborn as sns\n",
    "from sklearn.metrics import mean_squared_error\n",
    "from sklearn import linear_model"
   ]
  },
  {
   "cell_type": "code",
   "execution_count": 2,
   "metadata": {},
   "outputs": [],
   "source": [
    "# set display's options\n",
    "pd.set_option('display.max_columns', None)\n",
    "pd.set_option('display.max_rows', None)\n",
    "pd.set_option('display.max_colwidth', 1000)"
   ]
  },
  {
   "cell_type": "code",
   "execution_count": null,
   "metadata": {},
   "outputs": [],
   "source": []
  },
  {
   "cell_type": "code",
   "execution_count": null,
   "metadata": {},
   "outputs": [],
   "source": []
  },
  {
   "cell_type": "code",
   "execution_count": 3,
   "metadata": {
    "scrolled": false
   },
   "outputs": [],
   "source": [
    "# choosen columns (3x numerical, 1x yes/no and 1x category)\n",
    "df1 = pd.read_csv('survey_results_public.csv',\n",
    "                  usecols=['Respondent', 'YearsCodePro', 'WorkWeekHrs',\n",
    "                           'Age', 'Hobbyist', 'OpSys'],\n",
    "                  index_col='Respondent')"
   ]
  },
  {
   "cell_type": "code",
   "execution_count": 4,
   "metadata": {},
   "outputs": [],
   "source": [
    "#2\n",
    "df1.dropna(inplace=True)\n",
    "# replace value (we need float or int (no objects))\n",
    "df1.replace(to_replace='Less than 1 year', value='0', inplace=True)\n",
    "df1.replace(to_replace='More than 50 years', value='51', inplace=True)\n",
    "# change yes/no values to 1/0 values\n",
    "df1.replace(to_replace='Yes', value='1', inplace=True)\n",
    "df1.replace(to_replace='No', value='0', inplace=True)"
   ]
  },
  {
   "cell_type": "code",
   "execution_count": 5,
   "metadata": {
    "scrolled": true
   },
   "outputs": [],
   "source": [
    "df1['YearsCodePro'] = df1['YearsCodePro'].astype(float)\n",
    "df1['Hobbyist'] = df1['Hobbyist'].astype(float)"
   ]
  },
  {
   "cell_type": "code",
   "execution_count": 6,
   "metadata": {},
   "outputs": [
    {
     "name": "stdout",
     "output_type": "stream",
     "text": [
      "Hobbyist        float64\n",
      "YearsCodePro    float64\n",
      "WorkWeekHrs     float64\n",
      "OpSys            object\n",
      "Age             float64\n",
      "dtype: object\n"
     ]
    },
    {
     "data": {
      "text/html": [
       "<div>\n",
       "<style scoped>\n",
       "    .dataframe tbody tr th:only-of-type {\n",
       "        vertical-align: middle;\n",
       "    }\n",
       "\n",
       "    .dataframe tbody tr th {\n",
       "        vertical-align: top;\n",
       "    }\n",
       "\n",
       "    .dataframe thead th {\n",
       "        text-align: right;\n",
       "    }\n",
       "</style>\n",
       "<table border=\"1\" class=\"dataframe\">\n",
       "  <thead>\n",
       "    <tr style=\"text-align: right;\">\n",
       "      <th></th>\n",
       "      <th>Hobbyist</th>\n",
       "      <th>YearsCodePro</th>\n",
       "      <th>WorkWeekHrs</th>\n",
       "      <th>Age</th>\n",
       "    </tr>\n",
       "  </thead>\n",
       "  <tbody>\n",
       "    <tr>\n",
       "      <th>Hobbyist</th>\n",
       "      <td>1.000000</td>\n",
       "      <td>-0.025419</td>\n",
       "      <td>0.000928</td>\n",
       "      <td>-0.058456</td>\n",
       "    </tr>\n",
       "    <tr>\n",
       "      <th>YearsCodePro</th>\n",
       "      <td>-0.025419</td>\n",
       "      <td>1.000000</td>\n",
       "      <td>0.015847</td>\n",
       "      <td>0.827884</td>\n",
       "    </tr>\n",
       "    <tr>\n",
       "      <th>WorkWeekHrs</th>\n",
       "      <td>0.000928</td>\n",
       "      <td>0.015847</td>\n",
       "      <td>1.000000</td>\n",
       "      <td>0.019748</td>\n",
       "    </tr>\n",
       "    <tr>\n",
       "      <th>Age</th>\n",
       "      <td>-0.058456</td>\n",
       "      <td>0.827884</td>\n",
       "      <td>0.019748</td>\n",
       "      <td>1.000000</td>\n",
       "    </tr>\n",
       "  </tbody>\n",
       "</table>\n",
       "</div>"
      ],
      "text/plain": [
       "              Hobbyist  YearsCodePro  WorkWeekHrs       Age\n",
       "Hobbyist      1.000000     -0.025419     0.000928 -0.058456\n",
       "YearsCodePro -0.025419      1.000000     0.015847  0.827884\n",
       "WorkWeekHrs   0.000928      0.015847     1.000000  0.019748\n",
       "Age          -0.058456      0.827884     0.019748  1.000000"
      ]
     },
     "execution_count": 6,
     "metadata": {},
     "output_type": "execute_result"
    }
   ],
   "source": [
    "print(df1.dtypes)\n",
    "# cor check\n",
    "df1.corr()"
   ]
  },
  {
   "cell_type": "code",
   "execution_count": 7,
   "metadata": {},
   "outputs": [
    {
     "data": {
      "image/png": "[encoded data removed]",
      "text/plain": [
       "<Figure size 432x288 with 1 Axes>"
      ]
     },
     "metadata": {
      "needs_background": "light"
     },
     "output_type": "display_data"
    }
   ],
   "source": [
    "# plot check\n",
    "plt.plot(df1['YearsCodePro'], df1['WorkWeekHrs'], 'ro', markersize=0.3)\n",
    "plt.xlabel('YearsCode')\n",
    "plt.ylabel('WorkWeekHrs')\n",
    "plt.show()"
   ]
  },
  {
   "cell_type": "code",
   "execution_count": 10,
   "metadata": {},
   "outputs": [
    {
     "data": {
      "text/html": [
       "<div>\n",
       "<style scoped>\n",
       "    .dataframe tbody tr th:only-of-type {\n",
       "        vertical-align: middle;\n",
       "    }\n",
       "\n",
       "    .dataframe tbody tr th {\n",
       "        vertical-align: top;\n",
       "    }\n",
       "\n",
       "    .dataframe thead th {\n",
       "        text-align: right;\n",
       "    }\n",
       "</style>\n",
       "<table border=\"1\" class=\"dataframe\">\n",
       "  <thead>\n",
       "    <tr style=\"text-align: right;\">\n",
       "      <th></th>\n",
       "      <th>Hobbyist</th>\n",
       "      <th>YearsCodePro</th>\n",
       "      <th>WorkWeekHrs</th>\n",
       "      <th>OpSys</th>\n",
       "      <th>Age</th>\n",
       "      <th>BSD</th>\n",
       "      <th>Linux-based</th>\n",
       "      <th>MacOS</th>\n",
       "      <th>Windows</th>\n",
       "    </tr>\n",
       "    <tr>\n",
       "      <th>Respondent</th>\n",
       "      <th></th>\n",
       "      <th></th>\n",
       "      <th></th>\n",
       "      <th></th>\n",
       "      <th></th>\n",
       "      <th></th>\n",
       "      <th></th>\n",
       "      <th></th>\n",
       "      <th></th>\n",
       "    </tr>\n",
       "  </thead>\n",
       "  <tbody>\n",
       "    <tr>\n",
       "      <th>3</th>\n",
       "      <td>1.0</td>\n",
       "      <td>1.0</td>\n",
       "      <td>40.0</td>\n",
       "      <td>Linux-based</td>\n",
       "      <td>28.0</td>\n",
       "      <td>0</td>\n",
       "      <td>1</td>\n",
       "      <td>0</td>\n",
       "      <td>0</td>\n",
       "    </tr>\n",
       "    <tr>\n",
       "      <th>4</th>\n",
       "      <td>0.0</td>\n",
       "      <td>0.0</td>\n",
       "      <td>80.0</td>\n",
       "      <td>Windows</td>\n",
       "      <td>22.0</td>\n",
       "      <td>0</td>\n",
       "      <td>0</td>\n",
       "      <td>0</td>\n",
       "      <td>1</td>\n",
       "    </tr>\n",
       "    <tr>\n",
       "      <th>5</th>\n",
       "      <td>1.0</td>\n",
       "      <td>9.0</td>\n",
       "      <td>55.0</td>\n",
       "      <td>Linux-based</td>\n",
       "      <td>30.0</td>\n",
       "      <td>0</td>\n",
       "      <td>1</td>\n",
       "      <td>0</td>\n",
       "      <td>0</td>\n",
       "    </tr>\n",
       "    <tr>\n",
       "      <th>6</th>\n",
       "      <td>1.0</td>\n",
       "      <td>3.0</td>\n",
       "      <td>15.0</td>\n",
       "      <td>Windows</td>\n",
       "      <td>28.0</td>\n",
       "      <td>0</td>\n",
       "      <td>0</td>\n",
       "      <td>0</td>\n",
       "      <td>1</td>\n",
       "    </tr>\n",
       "    <tr>\n",
       "      <th>7</th>\n",
       "      <td>0.0</td>\n",
       "      <td>4.0</td>\n",
       "      <td>32.0</td>\n",
       "      <td>Windows</td>\n",
       "      <td>42.0</td>\n",
       "      <td>0</td>\n",
       "      <td>0</td>\n",
       "      <td>0</td>\n",
       "      <td>1</td>\n",
       "    </tr>\n",
       "  </tbody>\n",
       "</table>\n",
       "</div>"
      ],
      "text/plain": [
       "            Hobbyist  YearsCodePro  WorkWeekHrs        OpSys   Age  BSD  \\\n",
       "Respondent                                                                \n",
       "3                1.0           1.0         40.0  Linux-based  28.0    0   \n",
       "4                0.0           0.0         80.0      Windows  22.0    0   \n",
       "5                1.0           9.0         55.0  Linux-based  30.0    0   \n",
       "6                1.0           3.0         15.0      Windows  28.0    0   \n",
       "7                0.0           4.0         32.0      Windows  42.0    0   \n",
       "\n",
       "            Linux-based  MacOS  Windows  \n",
       "Respondent                               \n",
       "3                     1      0        0  \n",
       "4                     0      0        1  \n",
       "5                     1      0        0  \n",
       "6                     0      0        1  \n",
       "7                     0      0        1  "
      ]
     },
     "execution_count": 10,
     "metadata": {},
     "output_type": "execute_result"
    }
   ],
   "source": [
    "#3\n",
    "# one-hot encoding (get_dummies) and join both data frames (df1 and one_hot)\n",
    "one_hot = pd.get_dummies(df1[\"OpSys\"])\n",
    "one_hot.dropna(inplace=True)\n",
    "df1 = df1.join(one_hot)\n",
    "df1.head()"
   ]
  },
  {
   "cell_type": "code",
   "execution_count": 11,
   "metadata": {},
   "outputs": [
    {
     "name": "stdout",
     "output_type": "stream",
     "text": [
      "Hobbyist        float64\n",
      "YearsCodePro    float64\n",
      "WorkWeekHrs     float64\n",
      "OpSys            object\n",
      "Age             float64\n",
      "BSD               uint8\n",
      "Linux-based       uint8\n",
      "MacOS             uint8\n",
      "Windows           uint8\n",
      "dtype: object\n"
     ]
    }
   ],
   "source": [
    "# check types of df\n",
    "print(df1.dtypes)"
   ]
  },
  {
   "cell_type": "code",
   "execution_count": 12,
   "metadata": {},
   "outputs": [
    {
     "name": "stdout",
     "output_type": "stream",
     "text": [
      "          Hobbyist  YearsCodePro   WorkWeekHrs           Age           BSD  \\\n",
      "count  60063.00000  60063.000000  60063.000000  60063.000000  60063.000000   \n",
      "mean       0.79017      8.043704     42.124276     31.490363      0.000849   \n",
      "std        0.40719      7.343599     38.116684      8.277101      0.029127   \n",
      "min        0.00000      0.000000      1.000000      1.000000      0.000000   \n",
      "25%        1.00000      3.000000     40.000000     26.000000      0.000000   \n",
      "50%        1.00000      6.000000     40.000000     30.000000      0.000000   \n",
      "75%        1.00000     11.000000     44.000000     35.000000      0.000000   \n",
      "max        1.00000     51.000000   4850.000000     99.000000      1.000000   \n",
      "\n",
      "        Linux-based         MacOS       Windows  \n",
      "count  60063.000000  60063.000000  60063.000000  \n",
      "mean       0.246791      0.299868      0.452492  \n",
      "std        0.431148      0.458204      0.497742  \n",
      "min        0.000000      0.000000      0.000000  \n",
      "25%        0.000000      0.000000      0.000000  \n",
      "50%        0.000000      0.000000      0.000000  \n",
      "75%        0.000000      1.000000      1.000000  \n",
      "max        1.000000      1.000000      1.000000  \n"
     ]
    },
    {
     "data": {
      "image/png": "[encoded data removed]",
      "text/plain": [
       "<Figure size 432x288 with 1 Axes>"
      ]
     },
     "metadata": {
      "needs_background": "light"
     },
     "output_type": "display_data"
    }
   ],
   "source": [
    "# df1 describe and boxplot before remove the outliers\n",
    "print(df1.describe())\n",
    "sns.boxplot(data=df1)\n",
    "plt.show()"
   ]
  },
  {
   "cell_type": "code",
   "execution_count": 13,
   "metadata": {},
   "outputs": [],
   "source": [
    "# remove outliers\n",
    "Q1 = df1.quantile(0.25)\n",
    "Q3 = df1.quantile(0.75)\n",
    "IQR = Q3 - Q1\n",
    "df_no_outliers = df1[~((df1 < (Q1 - 1.5 * IQR)) | (df1 > (Q3 + 1.5 * IQR))).any(axis=1)]"
   ]
  },
  {
   "cell_type": "code",
   "execution_count": 14,
   "metadata": {},
   "outputs": [
    {
     "data": {
      "text/html": [
       "<div>\n",
       "<style scoped>\n",
       "    .dataframe tbody tr th:only-of-type {\n",
       "        vertical-align: middle;\n",
       "    }\n",
       "\n",
       "    .dataframe tbody tr th {\n",
       "        vertical-align: top;\n",
       "    }\n",
       "\n",
       "    .dataframe thead th {\n",
       "        text-align: right;\n",
       "    }\n",
       "</style>\n",
       "<table border=\"1\" class=\"dataframe\">\n",
       "  <thead>\n",
       "    <tr style=\"text-align: right;\">\n",
       "      <th></th>\n",
       "      <th>Hobbyist</th>\n",
       "      <th>YearsCodePro</th>\n",
       "      <th>WorkWeekHrs</th>\n",
       "      <th>Age</th>\n",
       "      <th>BSD</th>\n",
       "      <th>Linux-based</th>\n",
       "      <th>MacOS</th>\n",
       "      <th>Windows</th>\n",
       "    </tr>\n",
       "  </thead>\n",
       "  <tbody>\n",
       "    <tr>\n",
       "      <th>count</th>\n",
       "      <td>28251.0</td>\n",
       "      <td>28251.000000</td>\n",
       "      <td>28251.000000</td>\n",
       "      <td>28251.000000</td>\n",
       "      <td>28251.0</td>\n",
       "      <td>28251.0</td>\n",
       "      <td>28251.000000</td>\n",
       "      <td>28251.000000</td>\n",
       "    </tr>\n",
       "    <tr>\n",
       "      <th>mean</th>\n",
       "      <td>1.0</td>\n",
       "      <td>6.964815</td>\n",
       "      <td>41.109221</td>\n",
       "      <td>30.289784</td>\n",
       "      <td>0.0</td>\n",
       "      <td>0.0</td>\n",
       "      <td>0.417791</td>\n",
       "      <td>0.582209</td>\n",
       "    </tr>\n",
       "    <tr>\n",
       "      <th>std</th>\n",
       "      <td>0.0</td>\n",
       "      <td>5.428744</td>\n",
       "      <td>3.670227</td>\n",
       "      <td>6.114187</td>\n",
       "      <td>0.0</td>\n",
       "      <td>0.0</td>\n",
       "      <td>0.493204</td>\n",
       "      <td>0.493204</td>\n",
       "    </tr>\n",
       "    <tr>\n",
       "      <th>min</th>\n",
       "      <td>1.0</td>\n",
       "      <td>0.000000</td>\n",
       "      <td>34.000000</td>\n",
       "      <td>13.000000</td>\n",
       "      <td>0.0</td>\n",
       "      <td>0.0</td>\n",
       "      <td>0.000000</td>\n",
       "      <td>0.000000</td>\n",
       "    </tr>\n",
       "    <tr>\n",
       "      <th>25%</th>\n",
       "      <td>1.0</td>\n",
       "      <td>3.000000</td>\n",
       "      <td>40.000000</td>\n",
       "      <td>26.000000</td>\n",
       "      <td>0.0</td>\n",
       "      <td>0.0</td>\n",
       "      <td>0.000000</td>\n",
       "      <td>0.000000</td>\n",
       "    </tr>\n",
       "    <tr>\n",
       "      <th>50%</th>\n",
       "      <td>1.0</td>\n",
       "      <td>5.000000</td>\n",
       "      <td>40.000000</td>\n",
       "      <td>29.000000</td>\n",
       "      <td>0.0</td>\n",
       "      <td>0.0</td>\n",
       "      <td>0.000000</td>\n",
       "      <td>1.000000</td>\n",
       "    </tr>\n",
       "    <tr>\n",
       "      <th>75%</th>\n",
       "      <td>1.0</td>\n",
       "      <td>10.000000</td>\n",
       "      <td>42.000000</td>\n",
       "      <td>34.000000</td>\n",
       "      <td>0.0</td>\n",
       "      <td>0.0</td>\n",
       "      <td>1.000000</td>\n",
       "      <td>1.000000</td>\n",
       "    </tr>\n",
       "    <tr>\n",
       "      <th>max</th>\n",
       "      <td>1.0</td>\n",
       "      <td>23.000000</td>\n",
       "      <td>50.000000</td>\n",
       "      <td>48.000000</td>\n",
       "      <td>0.0</td>\n",
       "      <td>0.0</td>\n",
       "      <td>1.000000</td>\n",
       "      <td>1.000000</td>\n",
       "    </tr>\n",
       "  </tbody>\n",
       "</table>\n",
       "</div>"
      ],
      "text/plain": [
       "       Hobbyist  YearsCodePro   WorkWeekHrs           Age      BSD  \\\n",
       "count   28251.0  28251.000000  28251.000000  28251.000000  28251.0   \n",
       "mean        1.0      6.964815     41.109221     30.289784      0.0   \n",
       "std         0.0      5.428744      3.670227      6.114187      0.0   \n",
       "min         1.0      0.000000     34.000000     13.000000      0.0   \n",
       "25%         1.0      3.000000     40.000000     26.000000      0.0   \n",
       "50%         1.0      5.000000     40.000000     29.000000      0.0   \n",
       "75%         1.0     10.000000     42.000000     34.000000      0.0   \n",
       "max         1.0     23.000000     50.000000     48.000000      0.0   \n",
       "\n",
       "       Linux-based         MacOS       Windows  \n",
       "count      28251.0  28251.000000  28251.000000  \n",
       "mean           0.0      0.417791      0.582209  \n",
       "std            0.0      0.493204      0.493204  \n",
       "min            0.0      0.000000      0.000000  \n",
       "25%            0.0      0.000000      0.000000  \n",
       "50%            0.0      0.000000      1.000000  \n",
       "75%            0.0      1.000000      1.000000  \n",
       "max            0.0      1.000000      1.000000  "
      ]
     },
     "execution_count": 14,
     "metadata": {},
     "output_type": "execute_result"
    }
   ],
   "source": [
    "# descrabe frame after remove outliers\n",
    "df_no_outliers.describe()"
   ]
  },
  {
   "cell_type": "code",
   "execution_count": 15,
   "metadata": {},
   "outputs": [
    {
     "data": {
      "image/png": "[encoded data removed]",
      "text/plain": [
       "<Figure size 432x288 with 1 Axes>"
      ]
     },
     "metadata": {
      "needs_background": "light"
     },
     "output_type": "display_data"
    }
   ],
   "source": [
    "# df1 boxplot after remove the outliers\n",
    "sns.boxplot(data=df_no_outliers)\n",
    "plt.show()"
   ]
  },
  {
   "cell_type": "code",
   "execution_count": 16,
   "metadata": {},
   "outputs": [
    {
     "data": {
      "image/png": "[encoded data removed]",
      "text/plain": [
       "<Figure size 432x288 with 1 Axes>"
      ]
     },
     "metadata": {
      "needs_background": "light"
     },
     "output_type": "display_data"
    }
   ],
   "source": [
    "sns.regplot(y=df_no_outliers['WorkWeekHrs'], x=df_no_outliers['Age'], color=\"g\")\n",
    "plt.show()"
   ]
  },
  {
   "cell_type": "code",
   "execution_count": 17,
   "metadata": {},
   "outputs": [
    {
     "name": "stdout",
     "output_type": "stream",
     "text": [
      "[29.46110933]\n",
      "[0.02294913]\n",
      "323.5483318553082\n"
     ]
    }
   ],
   "source": [
    "#4\n",
    "# linear regression model (x1)\n",
    "reg = linear_model.LinearRegression()\n",
    "reg.fit(df_no_outliers[['WorkWeekHrs']], df_no_outliers['Age'])\n",
    "# prediction\n",
    "print(reg.predict([[5]]))\n",
    "print(reg.coef_)\n",
    "# mean_squared_error (x1)\n",
    "y_true1 = [5, 10, 15, 20]\n",
    "y_pred1 = [reg.predict([[5]]), reg.predict([[10]]),\n",
    "           reg.predict([[16]]), reg.predict([[20]])]\n",
    "print(mean_squared_error(y_true1, y_pred1))"
   ]
  },
  {
   "cell_type": "code",
   "execution_count": 18,
   "metadata": {},
   "outputs": [
    {
     "name": "stdout",
     "output_type": "stream",
     "text": [
      "[27.9274218]\n",
      "[-0.00562528  0.85961889]\n",
      "617.6534371522143\n"
     ]
    }
   ],
   "source": [
    "# linear regression model (x1 and x2)\n",
    "reg.fit(df_no_outliers[['WorkWeekHrs', 'YearsCodePro']], df_no_outliers['Age'])\n",
    "# prediction\n",
    "print(reg.predict([[8, 4]]))\n",
    "print(reg.coef_)\n",
    "# mean_squared_error (x1 and x2)\n",
    "y_true2 = [8, 10, 7, 20]\n",
    "y_pred2 = [reg.predict([[4, 8]]), reg.predict([[6, 10]]),\n",
    "           reg.predict([[7, 15]]), reg.predict([[22, 20]])]\n",
    "print(mean_squared_error(y_true2, y_pred2))"
   ]
  },
  {
   "cell_type": "code",
   "execution_count": 19,
   "metadata": {},
   "outputs": [
    {
     "name": "stdout",
     "output_type": "stream",
     "text": [
      "[29.59528985]\n",
      "[-0.00549855  0.85966048  0.          0.13762185]\n",
      "615.1181546743169\n"
     ]
    }
   ],
   "source": [
    "# linear regression model (x1 and x2)\n",
    "reg.fit(df_no_outliers[['WorkWeekHrs', 'YearsCodePro', 'Hobbyist', 'Windows']], df_no_outliers['Age'])\n",
    "# prediction\n",
    "print(reg.predict([[2, 6, 1, 0]]))\n",
    "print(reg.coef_)\n",
    "# mean_squared_error (x1, x2 and ())\n",
    "y_true3 = [8, 10, 7, 20]\n",
    "y_pred3 = [reg.predict([[4, 8, 1, 0]]), reg.predict([[6, 10, 0, 1]]),\n",
    "           reg.predict([[7, 15, 1, 0]]), reg.predict([[22, 20, 1, 0]])]\n",
    "print(mean_squared_error(y_true3, y_pred3))"
   ]
  },
  {
   "cell_type": "code",
   "execution_count": null,
   "metadata": {},
   "outputs": [],
   "source": []
  }
 ],
 "metadata": {
  "kernelspec": {
   "display_name": "Python 3",
   "language": "python",
   "name": "python3"
  },
  "language_info": {
   "codemirror_mode": {
    "name": "ipython",
    "version": 3
   },
   "file_extension": ".py",
   "mimetype": "text/x-python",
   "name": "python",
   "nbconvert_exporter": "python",
   "pygments_lexer": "ipython3",
   "version": "3.7.6"
  }
 },
 "nbformat": 4,
 "nbformat_minor": 4
}
