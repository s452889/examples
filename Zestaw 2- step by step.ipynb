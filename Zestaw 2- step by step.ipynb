{
 "cells": [
  {
   "cell_type": "code",
   "execution_count": 31,
   "metadata": {},
   "outputs": [],
   "source": [
    "import pandas as pd\n",
    "import numpy as np\n",
    "import matplotlib.pyplot as plt\n",
    "import seaborn as sns\n",
    "from sklearn.metrics import mean_squared_error\n",
    "from sklearn import linear_model"
   ]
  },
  {
   "cell_type": "code",
   "execution_count": 2,
   "metadata": {},
   "outputs": [],
   "source": [
    "# set display's options\n",
    "pd.set_option('display.max_columns', None)\n",
    "pd.set_option('display.max_rows', None)\n",
    "pd.set_option('display.max_colwidth', 1000)"
   ]
  },
  {
   "cell_type": "code",
   "execution_count": 4,
   "metadata": {},
   "outputs": [],
   "source": [
    "#1\n",
    "df = pd.read_csv('survey_results_public.csv')"
   ]
  },
  {
   "cell_type": "code",
   "execution_count": 5,
   "metadata": {},
   "outputs": [],
   "source": [
    "# drop NA value\n",
    "df.dropna(inplace=True)"
   ]
  },
  {
   "cell_type": "code",
   "execution_count": 6,
   "metadata": {
    "scrolled": false
   },
   "outputs": [],
   "source": [
    "# choosen columns (3x numerical, 1x yes/no and 1x category)\n",
    "df1 = pd.read_csv('survey_results_public.csv',\n",
    "                  usecols=['Respondent', 'YearsCodePro', 'WorkWeekHrs',\n",
    "                           'Age', 'Hobbyist', 'OpSys'],\n",
    "                  index_col='Respondent')"
   ]
  },
  {
   "cell_type": "code",
   "execution_count": 7,
   "metadata": {},
   "outputs": [],
   "source": [
    "#2\n",
    "# replace value (we need float or int (no objects))\n",
    "df1.replace(to_replace='Less than 1 year', value='0', inplace=True)\n",
    "df1.replace(to_replace='More than 50 years', value='51', inplace=True)\n",
    "# change yes/no values to 1/0 values\n",
    "df1.replace(to_replace='Yes', value='1', inplace=True)\n",
    "df1.replace(to_replace='No', value='0', inplace=True)\n",
    "df1.dropna(inplace=True)"
   ]
  },
  {
   "cell_type": "code",
   "execution_count": 8,
   "metadata": {
    "scrolled": true
   },
   "outputs": [],
   "source": [
    "df1['YearsCodePro'] = df1['YearsCodePro'].astype(float)"
   ]
  },
  {
   "cell_type": "code",
   "execution_count": 13,
   "metadata": {},
   "outputs": [
    {
     "name": "stdout",
     "output_type": "stream",
     "text": [
      "Hobbyist         object\n",
      "YearsCodePro    float64\n",
      "WorkWeekHrs     float64\n",
      "OpSys            object\n",
      "Age             float64\n",
      "dtype: object\n"
     ]
    },
    {
     "data": {
      "text/html": [
       "<div>\n",
       "<style scoped>\n",
       "    .dataframe tbody tr th:only-of-type {\n",
       "        vertical-align: middle;\n",
       "    }\n",
       "\n",
       "    .dataframe tbody tr th {\n",
       "        vertical-align: top;\n",
       "    }\n",
       "\n",
       "    .dataframe thead th {\n",
       "        text-align: right;\n",
       "    }\n",
       "</style>\n",
       "<table border=\"1\" class=\"dataframe\">\n",
       "  <thead>\n",
       "    <tr style=\"text-align: right;\">\n",
       "      <th></th>\n",
       "      <th>YearsCodePro</th>\n",
       "      <th>WorkWeekHrs</th>\n",
       "      <th>Age</th>\n",
       "    </tr>\n",
       "  </thead>\n",
       "  <tbody>\n",
       "    <tr>\n",
       "      <th>YearsCodePro</th>\n",
       "      <td>1.000000</td>\n",
       "      <td>0.015847</td>\n",
       "      <td>0.827884</td>\n",
       "    </tr>\n",
       "    <tr>\n",
       "      <th>WorkWeekHrs</th>\n",
       "      <td>0.015847</td>\n",
       "      <td>1.000000</td>\n",
       "      <td>0.019748</td>\n",
       "    </tr>\n",
       "    <tr>\n",
       "      <th>Age</th>\n",
       "      <td>0.827884</td>\n",
       "      <td>0.019748</td>\n",
       "      <td>1.000000</td>\n",
       "    </tr>\n",
       "  </tbody>\n",
       "</table>\n",
       "</div>"
      ],
      "text/plain": [
       "              YearsCodePro  WorkWeekHrs       Age\n",
       "YearsCodePro      1.000000     0.015847  0.827884\n",
       "WorkWeekHrs       0.015847     1.000000  0.019748\n",
       "Age               0.827884     0.019748  1.000000"
      ]
     },
     "execution_count": 13,
     "metadata": {},
     "output_type": "execute_result"
    }
   ],
   "source": [
    "print(df1.dtypes)\n",
    "# cor check\n",
    "df1.corr()"
   ]
  },
  {
   "cell_type": "code",
   "execution_count": 14,
   "metadata": {},
   "outputs": [
    {
     "data": {
      "image/png": "[encoded data removed]",
      "text/plain": [
       "<Figure size 432x288 with 1 Axes>"
      ]
     },
     "metadata": {
      "needs_background": "light"
     },
     "output_type": "display_data"
    }
   ],
   "source": [
    "# plot check\n",
    "plt.plot(df1['YearsCodePro'], df1['WorkWeekHrs'], 'ro', markersize=0.3)\n",
    "plt.xlabel('YearsCode')\n",
    "plt.ylabel('WorkWeekHrs')\n",
    "plt.show()"
   ]
  },
  {
   "cell_type": "code",
   "execution_count": 15,
   "metadata": {},
   "outputs": [],
   "source": [
    "#3\n",
    "# one-hot encoding (get_dummies) and joint both data frames (df1 and one_hot)\n",
    "one_hot = pd.get_dummies(df1[\"OpSys\"])\n",
    "one_hot.dropna(inplace=True)\n",
    "df2 = df1.join(one_hot)"
   ]
  },
  {
   "cell_type": "code",
   "execution_count": 18,
   "metadata": {},
   "outputs": [
    {
     "name": "stdout",
     "output_type": "stream",
     "text": [
      "Hobbyist         object\n",
      "YearsCodePro    float64\n",
      "WorkWeekHrs     float64\n",
      "OpSys            object\n",
      "Age             float64\n",
      "BSD               uint8\n",
      "Linux-based       uint8\n",
      "MacOS             uint8\n",
      "Windows           uint8\n",
      "dtype: object\n"
     ]
    }
   ],
   "source": [
    "# check types of df\n",
    "print(df2.dtypes)"
   ]
  },
  {
   "cell_type": "code",
   "execution_count": 21,
   "metadata": {},
   "outputs": [
    {
     "name": "stdout",
     "output_type": "stream",
     "text": [
      "       YearsCodePro   WorkWeekHrs           Age\n",
      "count  60063.000000  60063.000000  60063.000000\n",
      "mean       8.043704     42.124276     31.490363\n",
      "std        7.343599     38.116684      8.277101\n",
      "min        0.000000      1.000000      1.000000\n",
      "25%        3.000000     40.000000     26.000000\n",
      "50%        6.000000     40.000000     30.000000\n",
      "75%       11.000000     44.000000     35.000000\n",
      "max       51.000000   4850.000000     99.000000\n"
     ]
    },
    {
     "data": {
      "image/png": "[encoded data removed]",
      "text/plain": [
       "<Figure size 432x288 with 1 Axes>"
      ]
     },
     "metadata": {
      "needs_background": "light"
     },
     "output_type": "display_data"
    }
   ],
   "source": [
    "# df1 describe and boxplot before remove the outliers\n",
    "print(df1.describe())\n",
    "sns.boxplot(data=df1)\n",
    "plt.show()"
   ]
  },
  {
   "cell_type": "code",
   "execution_count": 22,
   "metadata": {},
   "outputs": [],
   "source": [
    "# remove outliers\n",
    "Q1 = df1.quantile(0.25)\n",
    "Q3 = df1.quantile(0.75)\n",
    "IQR = Q3 - Q1\n",
    "q = df2[~((df2 < (Q1 - 1.5 * IQR)) | (df2 > (Q3 + 1.5 * IQR))).any(axis=1)]"
   ]
  },
  {
   "cell_type": "code",
   "execution_count": 23,
   "metadata": {},
   "outputs": [
    {
     "data": {
      "text/html": [
       "<div>\n",
       "<style scoped>\n",
       "    .dataframe tbody tr th:only-of-type {\n",
       "        vertical-align: middle;\n",
       "    }\n",
       "\n",
       "    .dataframe tbody tr th {\n",
       "        vertical-align: top;\n",
       "    }\n",
       "\n",
       "    .dataframe thead th {\n",
       "        text-align: right;\n",
       "    }\n",
       "</style>\n",
       "<table border=\"1\" class=\"dataframe\">\n",
       "  <thead>\n",
       "    <tr style=\"text-align: right;\">\n",
       "      <th></th>\n",
       "      <th>YearsCodePro</th>\n",
       "      <th>WorkWeekHrs</th>\n",
       "      <th>Age</th>\n",
       "      <th>BSD</th>\n",
       "      <th>Linux-based</th>\n",
       "      <th>MacOS</th>\n",
       "      <th>Windows</th>\n",
       "    </tr>\n",
       "  </thead>\n",
       "  <tbody>\n",
       "    <tr>\n",
       "      <th>count</th>\n",
       "      <td>47725.000000</td>\n",
       "      <td>47725.000000</td>\n",
       "      <td>47725.000000</td>\n",
       "      <td>47725.000000</td>\n",
       "      <td>47725.000000</td>\n",
       "      <td>47725.000000</td>\n",
       "      <td>47725.000000</td>\n",
       "    </tr>\n",
       "    <tr>\n",
       "      <th>mean</th>\n",
       "      <td>6.969199</td>\n",
       "      <td>41.109618</td>\n",
       "      <td>30.375156</td>\n",
       "      <td>0.000608</td>\n",
       "      <td>0.237528</td>\n",
       "      <td>0.308958</td>\n",
       "      <td>0.452907</td>\n",
       "    </tr>\n",
       "    <tr>\n",
       "      <th>std</th>\n",
       "      <td>5.446836</td>\n",
       "      <td>3.667782</td>\n",
       "      <td>6.170910</td>\n",
       "      <td>0.024643</td>\n",
       "      <td>0.425573</td>\n",
       "      <td>0.462068</td>\n",
       "      <td>0.497783</td>\n",
       "    </tr>\n",
       "    <tr>\n",
       "      <th>min</th>\n",
       "      <td>0.000000</td>\n",
       "      <td>34.000000</td>\n",
       "      <td>13.000000</td>\n",
       "      <td>0.000000</td>\n",
       "      <td>0.000000</td>\n",
       "      <td>0.000000</td>\n",
       "      <td>0.000000</td>\n",
       "    </tr>\n",
       "    <tr>\n",
       "      <th>25%</th>\n",
       "      <td>3.000000</td>\n",
       "      <td>40.000000</td>\n",
       "      <td>26.000000</td>\n",
       "      <td>0.000000</td>\n",
       "      <td>0.000000</td>\n",
       "      <td>0.000000</td>\n",
       "      <td>0.000000</td>\n",
       "    </tr>\n",
       "    <tr>\n",
       "      <th>50%</th>\n",
       "      <td>5.000000</td>\n",
       "      <td>40.000000</td>\n",
       "      <td>29.000000</td>\n",
       "      <td>0.000000</td>\n",
       "      <td>0.000000</td>\n",
       "      <td>0.000000</td>\n",
       "      <td>0.000000</td>\n",
       "    </tr>\n",
       "    <tr>\n",
       "      <th>75%</th>\n",
       "      <td>10.000000</td>\n",
       "      <td>42.000000</td>\n",
       "      <td>34.000000</td>\n",
       "      <td>0.000000</td>\n",
       "      <td>0.000000</td>\n",
       "      <td>1.000000</td>\n",
       "      <td>1.000000</td>\n",
       "    </tr>\n",
       "    <tr>\n",
       "      <th>max</th>\n",
       "      <td>23.000000</td>\n",
       "      <td>50.000000</td>\n",
       "      <td>48.000000</td>\n",
       "      <td>1.000000</td>\n",
       "      <td>1.000000</td>\n",
       "      <td>1.000000</td>\n",
       "      <td>1.000000</td>\n",
       "    </tr>\n",
       "  </tbody>\n",
       "</table>\n",
       "</div>"
      ],
      "text/plain": [
       "       YearsCodePro   WorkWeekHrs           Age           BSD   Linux-based  \\\n",
       "count  47725.000000  47725.000000  47725.000000  47725.000000  47725.000000   \n",
       "mean       6.969199     41.109618     30.375156      0.000608      0.237528   \n",
       "std        5.446836      3.667782      6.170910      0.024643      0.425573   \n",
       "min        0.000000     34.000000     13.000000      0.000000      0.000000   \n",
       "25%        3.000000     40.000000     26.000000      0.000000      0.000000   \n",
       "50%        5.000000     40.000000     29.000000      0.000000      0.000000   \n",
       "75%       10.000000     42.000000     34.000000      0.000000      0.000000   \n",
       "max       23.000000     50.000000     48.000000      1.000000      1.000000   \n",
       "\n",
       "              MacOS       Windows  \n",
       "count  47725.000000  47725.000000  \n",
       "mean       0.308958      0.452907  \n",
       "std        0.462068      0.497783  \n",
       "min        0.000000      0.000000  \n",
       "25%        0.000000      0.000000  \n",
       "50%        0.000000      0.000000  \n",
       "75%        1.000000      1.000000  \n",
       "max        1.000000      1.000000  "
      ]
     },
     "execution_count": 23,
     "metadata": {},
     "output_type": "execute_result"
    }
   ],
   "source": [
    "# descrabe frame after remove outliers\n",
    "q.describe()"
   ]
  },
  {
   "cell_type": "code",
   "execution_count": 24,
   "metadata": {},
   "outputs": [
    {
     "data": {
      "image/png": "[encoded data removed]",
      "text/plain": [
       "<Figure size 432x288 with 1 Axes>"
      ]
     },
     "metadata": {
      "needs_background": "light"
     },
     "output_type": "display_data"
    }
   ],
   "source": [
    "# df1 boxplot after remove the outliers\n",
    "sns.boxplot(data=q)\n",
    "plt.show()"
   ]
  },
  {
   "cell_type": "code",
   "execution_count": 29,
   "metadata": {},
   "outputs": [
    {
     "data": {
      "image/png": "[encoded data removed]",
      "text/plain": [
       "<Figure size 432x288 with 1 Axes>"
      ]
     },
     "metadata": {
      "needs_background": "light"
     },
     "output_type": "display_data"
    }
   ],
   "source": [
    "sns.regplot(y=q['WorkWeekHrs'], x=q['Age'], color=\"g\")\n",
    "plt.show()"
   ]
  },
  {
   "cell_type": "code",
   "execution_count": 32,
   "metadata": {},
   "outputs": [
    {
     "name": "stdout",
     "output_type": "stream",
     "text": [
      "[29.83013502]\n",
      "[0.0150935]\n",
      "334.69687124973984\n"
     ]
    }
   ],
   "source": [
    "#4\n",
    "# linear regression model (x1)\n",
    "reg = linear_model.LinearRegression()\n",
    "reg.fit(q[['WorkWeekHrs']], q['Age'])\n",
    "# prediction\n",
    "print(reg.predict([[5]]))\n",
    "print(reg.coef_)\n",
    "# mean_squared_error (x1)\n",
    "y_true1 = [5, 10, 15, 20]\n",
    "y_pred1 = [reg.predict([[5]]), reg.predict([[10]]),\n",
    "           reg.predict([[16]]), reg.predict([[20]])]\n",
    "print(mean_squared_error(y_true1, y_pred1))"
   ]
  },
  {
   "cell_type": "code",
   "execution_count": 33,
   "metadata": {},
   "outputs": [
    {
     "name": "stdout",
     "output_type": "stream",
     "text": [
      "[27.98191634]\n",
      "[-0.00584034  0.87114772]\n",
      "625.6084375470451\n"
     ]
    }
   ],
   "source": [
    "# linear regression model (x1 and x2)\n",
    "reg.fit(q[['WorkWeekHrs', 'YearsCodePro']], q['Age'])\n",
    "# prediction\n",
    "print(reg.predict([[8, 4]]))\n",
    "print(reg.coef_)\n",
    "# mean_squared_error (x1 and x2)\n",
    "y_true2 = [8, 10, 7, 20]\n",
    "y_pred2 = [reg.predict([[4, 8]]), reg.predict([[6, 10]]),\n",
    "           reg.predict([[7, 15]]), reg.predict([[22, 20]])]\n",
    "print(mean_squared_error(y_true2, y_pred2))"
   ]
  },
  {
   "cell_type": "code",
   "execution_count": 34,
   "metadata": {},
   "outputs": [
    {
     "name": "stdout",
     "output_type": "stream",
     "text": [
      "[29.57588634]\n",
      "[-0.00497759  0.8710147  -0.47162208  0.11029987]\n",
      "623.6075566673463\n"
     ]
    }
   ],
   "source": [
    "# linear regression model (x1 and x2)\n",
    "reg.fit(q[['WorkWeekHrs', 'YearsCodePro', 'Hobbyist', 'Windows']], q['Age'])\n",
    "# prediction\n",
    "print(reg.predict([[2, 6, 1, 0]]))\n",
    "print(reg.coef_)\n",
    "# mean_squared_error (x1, x2 and ())\n",
    "y_true3 = [8, 10, 7, 20]\n",
    "y_pred3 = [reg.predict([[4, 8, 1, 0]]), reg.predict([[6, 10, 0, 1]]),\n",
    "           reg.predict([[7, 15, 1, 0]]), reg.predict([[22, 20, 1, 0]])]\n",
    "print(mean_squared_error(y_true3, y_pred3))"
   ]
  },
  {
   "cell_type": "code",
   "execution_count": null,
   "metadata": {},
   "outputs": [],
   "source": []
  }
 ],
 "metadata": {
  "kernelspec": {
   "display_name": "Python 3",
   "language": "python",
   "name": "python3"
  },
  "language_info": {
   "codemirror_mode": {
    "name": "ipython",
    "version": 3
   },
   "file_extension": ".py",
   "mimetype": "text/x-python",
   "name": "python",
   "nbconvert_exporter": "python",
   "pygments_lexer": "ipython3",
   "version": "3.7.6"
  }
 },
 "nbformat": 4,
 "nbformat_minor": 4
}
